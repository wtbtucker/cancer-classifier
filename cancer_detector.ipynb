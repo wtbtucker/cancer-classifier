{
 "cells": [
  {
   "cell_type": "markdown",
   "metadata": {},
   "source": [
    "# Introduction\n",
    "\n",
    "This project seeks to solve the problem of identifying pathological images as cancerous or non-cancerous. Better classification tools could help doctors detect cancer earlier and save patients' lives. \n",
    "\n",
    "The data for this competition is a version of the PatchCamelyon (PCam) benchmark dataset that does not contain duplicates. I obtained the dataset from the Kaggle competition page[3]. The data was provided to Kaggle by Bas Veeling[1], with additional input from Babak Ehteshami Bejnordi, Geert Litjens, and Jeroen van der Laak[2].\n",
    "\n",
    "The data consists of 96x96 color images extracted from histopathologic scans of lymph node sections. Each image is labelled to reflect the presence of metastatic tissue (cancer). \n",
    "# insert dimensionality of dataset"
   ]
  },
  {
   "cell_type": "markdown",
   "metadata": {},
   "source": [
    "# Exploratory Data Analysis\n",
    "\n",
    "Count of images in each class\n",
    "\n",
    "Each image is represented by a 96x96x3 matrix representing the pixels of the image and values for red, blue, and green.\n",
    "\n",
    "example images for cancerous and for non-cancerous"
   ]
  },
  {
   "cell_type": "markdown",
   "metadata": {},
   "source": [
    "# Model Building and Training\n",
    "\n",
    "VGGnet model (conv-conv-pooling)\n",
    "optimization method\n"
   ]
  },
  {
   "cell_type": "markdown",
   "metadata": {},
   "source": [
    "## Citations\n",
    "\n",
    "[1] B. S. Veeling, J. Linmans, J. Winkens, T. Cohen, M. Welling. \"Rotation Equivariant CNNs for Digital Pathology\". arXiv:1806.03962\n",
    "\n",
    "[2] Ehteshami Bejnordi et al. Diagnostic Assessment of Deep Learning Algorithms for Detection of Lymph Node Metastases in Women With Breast Cancer. JAMA: The Journal of the American Medical Association, 318(22), 2199–2210. doi:jama.2017.14585\n",
    "\n",
    "[3] https://www.kaggle.com/c/histopathologic-cancer-detection/overview\n",
    "\n",
    "[4] https://medium.com/@siddheshb008/vgg-net-architecture-explained-71179310050f\n",
    "\n",
    "[5] https://www.kaggle.com/code/mohammedhamzamoawad/histopathologic-cancer-detection"
   ]
  },
  {
   "cell_type": "markdown",
   "metadata": {},
   "source": []
  }
 ],
 "metadata": {
  "kernelspec": {
   "display_name": "Python 3",
   "language": "python",
   "name": "python3"
  },
  "language_info": {
   "codemirror_mode": {
    "name": "ipython",
    "version": 3
   },
   "file_extension": ".py",
   "mimetype": "text/x-python",
   "name": "python",
   "nbconvert_exporter": "python",
   "pygments_lexer": "ipython3",
   "version": "3.10.6"
  }
 },
 "nbformat": 4,
 "nbformat_minor": 2
}
